{
 "cells": [
  {
   "cell_type": "markdown",
   "metadata": {},
   "source": [
    "# ECSE415 Project Report\n",
    "\n",
    "## Group 19  \n",
    "****  \n",
    "**Ali Habib 260658538**  \n",
    "**Hakim Amarouche 260692167**  \n",
    "**Pierre-William Breau 260588768**  \n",
    "**Shi Yu Liu 260683360**    \n",
    "**Younes Boubekeur 260681484**  "
   ]
  },
  {
   "cell_type": "markdown",
   "metadata": {},
   "source": [
    "____\n",
    "\n",
    "# 1 Imports"
   ]
  },
  {
   "cell_type": "code",
   "execution_count": 2,
   "metadata": {},
   "outputs": [],
   "source": [
    "import cv2\n",
    "import numpy as np\n",
    "from matplotlib import pyplot as plt\n",
    "import random\n",
    "import math"
   ]
  },
  {
   "cell_type": "markdown",
   "metadata": {},
   "source": [
    "____\n",
    "\n",
    "# 2 Classification"
   ]
  },
  {
   "cell_type": "markdown",
   "metadata": {},
   "source": [
    "##### Description of the contents of the dataset (number of samples and image size, for each label).\n",
    "\n",
    "The input data set is composed of different categories such as cars, trucks, background, etc. There are approximately 600 000 images. The images are approximately the same size. They all have a low resolution. They are sometimes difficult to distinguish even for humans. The proportion of background images is bigger compared to the other categories.\n",
    "\n",
    "We loaded 100 images per label, summing up to 1100 images in total for training our model. Having more than a 1100 would not increase our results significantly and would take more time to execute. Each image\n",
    "was reduced to a 128X128 pixels image to match the block size of our HOG feature detector. However, when resizing the images will change their proportion."
   ]
  },
  {
   "cell_type": "markdown",
   "metadata": {},
   "source": [
    "##### Explanation of feature extraction method.\n",
    "\n",
    "Histogram of gradients (HOG) counts gradients orientations in image regions to determine features.\n",
    "It is more efficient then SIFT features detector since it is looking at blocks of pixels instead of each pixels by itself.\n",
    "\n",
    "In the `getHogFeatures()` function a HOG descriptor is created with appropriate dimensions. Then it is iterating over the images and computing the hog features for each, thus obtaining the grandient amplitudes for each direction.\n",
    "We used HOG, because it is invariant to geometric and photometric transformations. Althought HOG has no compensation for scale, it does not affect our result since the images are from non-moving cameras and there is not to much variation in scale for the sample images."
   ]
  },
  {
   "cell_type": "markdown",
   "metadata": {},
   "source": [
    "###### Explanation of how the feature extraction parameters were selected.\n",
    "The parameters were selected using experimentation. We tried different combinations of cell sizes, block sizes and number of bins that satisfy the HOG constraints and compared the accuracy for each combination. We selected the combination with the best accuracy. \n"
   ]
  },
  {
   "cell_type": "markdown",
   "metadata": {},
   "source": [
    "###### Description of cross-validation method\n",
    "\n",
    "We used cross-validation with 10 folds offered by sklearn API. The Cross-validation techniques partitions the sample data into subsets using some of it for training and the rest for testing. This process happens K times such that all the data is used for testing and training. The benefint of using K-folds crossvalidation is that it maximizes the amount of data for training and the data for testing. A measurement of the accuracy is then computed from the average of the 10 runs."
   ]
  },
  {
   "cell_type": "markdown",
   "metadata": {},
   "source": [
    "##### Evaluation of performance and interpretation of results\n",
    "\n",
    "Predictive accuracy refers to a model’s ability to accurately predict the class label of new or unseen data. It follows a 0 to 1 loss function using testing examples, where the ratio is equal to \n",
    "\n",
    "Nc (number of correctly classified testing examples)/ Nt (total number of testing examples)\n",
    "\n",
    "In our case we have an accuracy and precision of 45%. While this is a decent percentage, the shortcomings can be linked to the choice of the parameters for the HOG feature extraction. Perahps we should have use different feature extraction methods jointly to get better results. Or maybe the shortcomings can be linked to the choice of the cross validation method. We used k fold cross validation, randomly dividing the data set into k subsamples, using k-1 subsamples as training data and one sub-sample as test data --- repeating k times. The problem with this is that it is computationally very costly and we cannot, and also that it uses small samples of performance estimation; and overlaps training data, which significantly raises error. \n",
    "\n",
    "\n",
    "Unfortunately, the results for the accuracy, recall and precision values are all the same when running the program. This is not suppose to happen. We have a bug somewhere that we could not figure out due to time constraint.  "
   ]
  },
  {
   "cell_type": "code",
   "execution_count": 3,
   "metadata": {},
   "outputs": [
    {
     "data": {
      "image/png": "[encoded data removed]",
      "text/plain": [
       "<Figure size 720x720 with 1 Axes>"
      ]
     },
     "metadata": {},
     "output_type": "display_data"
    }
   ],
   "source": [
    "\n",
    "\n",
    "img = cv2.imread(\"confusionMatrix.jpg\")\n",
    "img = cv2.cvtColor(img, cv2.COLOR_BGR2RGB)\n",
    "plt.figure(figsize=(10, 10))\n",
    "plt.imshow(img)\n",
    "plt.title(\"confusionMatrix\"), plt.xticks([]), plt.yticks([])\n",
    "plt.show()"
   ]
  },
  {
   "cell_type": "markdown",
   "metadata": {},
   "source": [
    "____\n",
    "\n",
    "# 3 Localization & Classification"
   ]
  },
  {
   "cell_type": "markdown",
   "metadata": {},
   "source": [
    "###### Description of the contents of the dataset (e.g., number of samples and bounding box size for each label, contents, etc.) \n",
    "The input data set is composed of 110 000 training images and 27 743 testing images. The gt_train.csv file describes for each training image the class and bounding box of each object present therein. The size of the bounding boxes vary."
   ]
  },
  {
   "cell_type": "markdown",
   "metadata": {},
   "source": [
    "##### Description of localization method.\n",
    "Using HoG and our SVM classifier from before, a localization strategy would be the following:\n",
    "1. For each image, compute the HoG features for the entire image\n",
    "2. In a pyramid-like fashion, run a sliding window on the image.\n",
    "3. Resize the image and re-run the sliding window, to account for different scales of objects. The sliding window will query the classifier and based on the response, it will determine the presence of an object. If the classifier detects a background, nothing happens. Any other response will return the presence of an object.\n",
    "\n",
    "This is likely to lead to many false positives depending on the step size used in the sliding window."
   ]
  },
  {
   "cell_type": "markdown",
   "metadata": {},
   "source": [
    "###### Evaluation of localization performance and interpretation of results.\n",
    "SVM recall is important because it measures the success of prediction in case of having high imbalance between classes. Precision in this case would be a measure of how relevant our results are. Meanwhile, recall is a measure of how many really relevant results are able to be returned. \n",
    "\n",
    "When a model has a high recall percentage but a low precision one, it is able to return many results. Nevertheless, the labels it predicts are often not in agreement with the trained labels. Meanwhile, in the opposite case, not many results are returned, but those that are in fact returned have high accuracy in terms of predicting the correct labels. The ideal situation would be to have a high recall AND accuracy percentage.\n",
    "\n",
    "The problem with HoG is that it is very sensitive to image rotation, which can lead to greater errors. \n"
   ]
  },
  {
   "cell_type": "markdown",
   "metadata": {},
   "source": [
    "# How to run the source code Source code\n"
   ]
  },
  {
   "cell_type": "markdown",
   "metadata": {},
   "source": [
    "## Part 2 Classification"
   ]
  },
  {
   "cell_type": "code",
   "execution_count": 1,
   "metadata": {},
   "outputs": [
    {
     "ename": "FileNotFoundError",
     "evalue": "[WinError 3] The system cannot find the path specified: '../MIO-TCD-Classification\\\\train'",
     "output_type": "error",
     "traceback": [
      "\u001b[1;31m---------------------------------------------------------------------------\u001b[0m",
      "\u001b[1;31mFileNotFoundError\u001b[0m                         Traceback (most recent call last)",
      "\u001b[1;32m<ipython-input-1-1a1f4c5c81da>\u001b[0m in \u001b[0;36m<module>\u001b[1;34m()\u001b[0m\n\u001b[0;32m    103\u001b[0m \u001b[1;33m\u001b[0m\u001b[0m\n\u001b[0;32m    104\u001b[0m \u001b[1;32mif\u001b[0m \u001b[0m__name__\u001b[0m \u001b[1;33m==\u001b[0m \u001b[1;34m\"__main__\"\u001b[0m\u001b[1;33m:\u001b[0m\u001b[1;33m\u001b[0m\u001b[0m\n\u001b[1;32m--> 105\u001b[1;33m     \u001b[0mmain\u001b[0m\u001b[1;33m(\u001b[0m\u001b[1;33m)\u001b[0m\u001b[1;33m\u001b[0m\u001b[0m\n\u001b[0m",
      "\u001b[1;32m<ipython-input-1-1a1f4c5c81da>\u001b[0m in \u001b[0;36mmain\u001b[1;34m()\u001b[0m\n\u001b[0;32m     86\u001b[0m \u001b[1;33m\u001b[0m\u001b[0m\n\u001b[0;32m     87\u001b[0m \u001b[1;32mdef\u001b[0m \u001b[0mmain\u001b[0m\u001b[1;33m(\u001b[0m\u001b[1;33m)\u001b[0m\u001b[1;33m:\u001b[0m\u001b[1;33m\u001b[0m\u001b[0m\n\u001b[1;32m---> 88\u001b[1;33m     \u001b[0mimages\u001b[0m\u001b[1;33m,\u001b[0m \u001b[0mlabels\u001b[0m \u001b[1;33m=\u001b[0m \u001b[0mloadImagesWithLabel\u001b[0m\u001b[1;33m(\u001b[0m\u001b[1;34m\"../MIO-TCD-Classification\"\u001b[0m\u001b[1;33m,\u001b[0m \u001b[1;36m100\u001b[0m\u001b[1;33m,\u001b[0m \u001b[1;36m128\u001b[0m\u001b[1;33m)\u001b[0m\u001b[1;33m\u001b[0m\u001b[0m\n\u001b[0m\u001b[0;32m     89\u001b[0m     \u001b[0mtraining_img_features\u001b[0m \u001b[1;33m=\u001b[0m \u001b[0mgetHogFeatures\u001b[0m\u001b[1;33m(\u001b[0m\u001b[0mimages\u001b[0m\u001b[1;33m)\u001b[0m\u001b[1;33m\u001b[0m\u001b[0m\n\u001b[0;32m     90\u001b[0m     \u001b[0mtraining_img_features\u001b[0m \u001b[1;33m=\u001b[0m \u001b[0mnp\u001b[0m\u001b[1;33m.\u001b[0m\u001b[0marray\u001b[0m\u001b[1;33m(\u001b[0m\u001b[1;33m[\u001b[0m\u001b[0mx\u001b[0m\u001b[1;33m.\u001b[0m\u001b[0mflatten\u001b[0m\u001b[1;33m(\u001b[0m\u001b[1;33m)\u001b[0m \u001b[1;32mfor\u001b[0m \u001b[0mx\u001b[0m \u001b[1;32min\u001b[0m \u001b[0mtraining_img_features\u001b[0m\u001b[1;33m]\u001b[0m\u001b[1;33m)\u001b[0m\u001b[1;33m\u001b[0m\u001b[0m\n",
      "\u001b[1;32m<ipython-input-1-1a1f4c5c81da>\u001b[0m in \u001b[0;36mloadImagesWithLabel\u001b[1;34m(classificationPath, number_images_label, imageSize)\u001b[0m\n\u001b[0;32m     15\u001b[0m \u001b[1;32mdef\u001b[0m \u001b[0mloadImagesWithLabel\u001b[0m\u001b[1;33m(\u001b[0m\u001b[0mclassificationPath\u001b[0m\u001b[1;33m,\u001b[0m \u001b[0mnumber_images_label\u001b[0m\u001b[1;33m,\u001b[0m \u001b[0mimageSize\u001b[0m\u001b[1;33m)\u001b[0m\u001b[1;33m:\u001b[0m\u001b[1;33m\u001b[0m\u001b[0m\n\u001b[0;32m     16\u001b[0m     \u001b[0mtrainingClassificationPath\u001b[0m \u001b[1;33m=\u001b[0m \u001b[0mos\u001b[0m\u001b[1;33m.\u001b[0m\u001b[0mpath\u001b[0m\u001b[1;33m.\u001b[0m\u001b[0mjoin\u001b[0m\u001b[1;33m(\u001b[0m\u001b[0mclassificationPath\u001b[0m\u001b[1;33m,\u001b[0m \u001b[1;34m'train'\u001b[0m\u001b[1;33m)\u001b[0m\u001b[1;33m\u001b[0m\u001b[0m\n\u001b[1;32m---> 17\u001b[1;33m     \u001b[0mlabels\u001b[0m \u001b[1;33m=\u001b[0m \u001b[0mos\u001b[0m\u001b[1;33m.\u001b[0m\u001b[0mlistdir\u001b[0m\u001b[1;33m(\u001b[0m\u001b[0mtrainingClassificationPath\u001b[0m\u001b[1;33m)\u001b[0m \u001b[1;31m#creates the labels using the folder name at path specified.\u001b[0m\u001b[1;33m\u001b[0m\u001b[0m\n\u001b[0m\u001b[0;32m     18\u001b[0m     \u001b[0mclassification_images\u001b[0m \u001b[1;33m=\u001b[0m \u001b[1;33m[\u001b[0m\u001b[1;33m]\u001b[0m \u001b[1;31m#list of all images loaded regardless of their class\u001b[0m\u001b[1;33m\u001b[0m\u001b[0m\n\u001b[0;32m     19\u001b[0m     \u001b[0mtrainingLabels\u001b[0m \u001b[1;33m=\u001b[0m \u001b[1;33m[\u001b[0m\u001b[1;33m]\u001b[0m \u001b[1;31m#label of image corresponding to the images in classification_images list\u001b[0m\u001b[1;33m\u001b[0m\u001b[0m\n",
      "\u001b[1;31mFileNotFoundError\u001b[0m: [WinError 3] The system cannot find the path specified: '../MIO-TCD-Classification\\\\train'"
     ]
    }
   ],
   "source": [
    "import cv2\n",
    "import numpy as np\n",
    "from matplotlib import pyplot as plt\n",
    "import random\n",
    "import math\n",
    "import glob\n",
    "from sklearn import svm\n",
    "from sklearn.model_selection import train_test_split, GridSearchCV, cross_val_score\n",
    "from sklearn.metrics import accuracy_score, recall_score, precision_score\n",
    "from joblib import dump, load\n",
    "import os\n",
    "import time\n",
    "\n",
    "\n",
    "def loadImagesWithLabel(classificationPath, number_images_label, imageSize):\n",
    "    trainingClassificationPath = os.path.join(classificationPath, 'train')\n",
    "    labels = os.listdir(trainingClassificationPath) #creates the labels using the folder name at path specified.\n",
    "    classification_images = [] #list of all images loaded regardless of their class\n",
    "    trainingLabels = [] #label of image corresponding to the images in classification_images list\n",
    "\n",
    "    for label in labels:\n",
    "        path_label = os.path.join(trainingClassificationPath, label)\n",
    "        for i, image_name in enumerate(os.listdir(path_label)):\n",
    "            if i == number_images_label:\n",
    "                break\n",
    "\n",
    "            image = cv2.imread(os.path.join(path_label, image_name), cv2.IMREAD_GRAYSCALE)\n",
    "            image = cv2.resize(image, (imageSize, imageSize))\n",
    "            classification_images.append(image)\n",
    "\n",
    "            trainingLabels.append(labels.index(label))\n",
    "\n",
    "    classification_images = np.array(classification_images)\n",
    "    trainingLabels = np.array(trainingLabels)\n",
    "\n",
    "    return classification_images, trainingLabels\n",
    "    \n",
    "def getHogFeatures(images):\n",
    "    cell_size = (4, 4)  # h x w in pixels\n",
    "    block_size = (4, 4)  # h x w in cells\n",
    "    nbins = 8  # number of orientation bins\n",
    "    \n",
    "    hog = cv2.HOGDescriptor(_winSize=(images[0].shape[1] // cell_size[1] * cell_size[1],\n",
    "                                          images[0].shape[0] // cell_size[0] * cell_size[0]),\n",
    "                                _blockSize=(block_size[1] * cell_size[1],\n",
    "                                            block_size[0] * cell_size[0]),\n",
    "                                _blockStride=(cell_size[1], cell_size[0]),\n",
    "                                _cellSize=(cell_size[1], cell_size[0]),\n",
    "                                _nbins=nbins)\n",
    "    \n",
    "    n_cells = (images[0].shape[0] // cell_size[0], images[0].shape[1] // cell_size[1])\n",
    "    \n",
    "    listOfHogFeatures = []\n",
    "    for img in images:\n",
    "        # create HoG Object\n",
    "        # winSize is the size of the image cropped to an multiple of the cell size\n",
    "        \n",
    "\n",
    "        # Compute HoG features\n",
    "        hog_feats = hog.compute(img)\\\n",
    "                       .reshape(n_cells[1] - block_size[1] + 1,\n",
    "                                n_cells[0] - block_size[0] + 1,\n",
    "                                block_size[0], block_size[1], nbins) \\\n",
    "                       .transpose((1, 0, 2, 3, 4))  # index blocks by rows first\n",
    "\n",
    "        # hog_feats now contains the gradient amplitudes for each direction,for each cell of its group for each group.\n",
    "        # Indexing is by rows then columns.\n",
    "        # computation for BlockNorm\n",
    "        gradients = np.full((n_cells[0], n_cells[1], 8), 0, dtype=float)\n",
    "        cell_count = np.full((n_cells[0], n_cells[1], 1), 0, dtype=int)\n",
    "\n",
    "        for off_y in range(block_size[0]):\n",
    "            for off_x in range(block_size[1]):\n",
    "                gradients[off_y:n_cells[0] - block_size[0] + off_y + 1,\n",
    "                          off_x:n_cells[1] - block_size[1] + off_x + 1] += \\\n",
    "                    hog_feats[:, :, off_y, off_x, :]\n",
    "                cell_count[off_y:n_cells[0] - block_size[0] + off_y + 1,\n",
    "                           off_x:n_cells[1] - block_size[1] + off_x + 1] += 1\n",
    "\n",
    "        # Average gradients\n",
    "        gradients /= cell_count\n",
    "        # turn gradient 32,32,8 3D array to 1D for training \n",
    "        reshaped_gradients = gradients.ravel()\n",
    "        listOfHogFeatures.append(reshaped_gradients)\n",
    "        \n",
    "    return listOfHogFeatures\n",
    "\n",
    "def main():\n",
    "    images, labels = loadImagesWithLabel(\"../MIO-TCD-Classification\", 100, 128)\n",
    "    training_img_features = getHogFeatures(images)\n",
    "    training_img_features = np.array([x.flatten() for x in training_img_features])\n",
    "\n",
    "    model = svm.SVC(gamma=0.002, kernel='linear')\n",
    "    \n",
    "    # save model to file\n",
    "    dump(model, 'svm_model.joblib')\n",
    "    \n",
    "    scores = cross_val_score(model, training_img_features, labels, cv=10)\n",
    "    print(\"Accuracy & STD: %0.2f (+/- %0.2f)\" % (scores.mean(), scores.std() * 2))\n",
    "    recall = cross_val_score(model, training_img_features, labels, cv=10, scoring='recall_micro')\n",
    "    print(\"Recall: %0.2f\", np.mean(recall))\n",
    "    precision = cross_val_score(model, training_img_features, labels, cv=10, scoring='precision_micro')\n",
    "    print(\"Precision: %0.2f\", np.mean(precision))\n",
    "\n",
    "if __name__ == \"__main__\":\n",
    "    main()"
   ]
  }
 ],
 "metadata": {
  "kernelspec": {
   "display_name": "Python 3",
   "language": "python",
   "name": "python3"
  },
  "language_info": {
   "codemirror_mode": {
    "name": "ipython",
    "version": 3
   },
   "file_extension": ".py",
   "mimetype": "text/x-python",
   "name": "python",
   "nbconvert_exporter": "python",
   "pygments_lexer": "ipython3",
   "version": "3.6.5"
  }
 },
 "nbformat": 4,
 "nbformat_minor": 2
}
